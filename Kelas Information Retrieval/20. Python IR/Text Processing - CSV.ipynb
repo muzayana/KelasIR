{
 "cells": [
  {
   "cell_type": "code",
   "execution_count": 2,
   "metadata": {},
   "outputs": [
    {
     "name": "stdout",
     "output_type": "stream",
     "text": [
      "['Espresso', 'No', 'No', 'No']\n",
      "['Flat White', 'No', 'Yes', 'No']\n",
      "['Cappuccino', 'No', 'Yes - Frothy', 'No']\n",
      "['Affogato', 'No', 'No', 'Yes']\n"
     ]
    }
   ],
   "source": [
    "import csv\n",
    "f = open(\"coffee.csv\")\n",
    "for row in csv.reader(f):\n",
    "    if row[1] == 'No':\n",
    "        print(row)"
   ]
  },
  {
   "cell_type": "code",
   "execution_count": null,
   "metadata": {
    "collapsed": true
   },
   "outputs": [],
   "source": []
  }
 ],
 "metadata": {
  "kernelspec": {
   "display_name": "Python 2",
   "language": "python",
   "name": "python2"
  },
  "language_info": {
   "codemirror_mode": {
    "name": "ipython",
    "version": 2
   },
   "file_extension": ".py",
   "mimetype": "text/x-python",
   "name": "python",
   "nbconvert_exporter": "python",
   "pygments_lexer": "ipython2",
   "version": "2.7.12"
  }
 },
 "nbformat": 4,
 "nbformat_minor": 1
}
