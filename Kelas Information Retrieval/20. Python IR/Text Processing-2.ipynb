{
 "cells": [
  {
   "cell_type": "markdown",
   "metadata": {},
   "source": [
    "### Baca File\n",
    "Buka file, dan baca langsung seluruh konten dari file."
   ]
  },
  {
   "cell_type": "code",
   "execution_count": 1,
   "metadata": {},
   "outputs": [
    {
     "name": "stdout",
     "output_type": "stream",
     "text": [
      "January\n",
      "February\n",
      "March\n",
      "April\n",
      "Juni\n",
      "Juli\n",
      "\n"
     ]
    }
   ],
   "source": [
    "f = open(\"months.txt\")\n",
    "print(f.read())\n"
   ]
  },
  {
   "cell_type": "markdown",
   "metadata": {},
   "source": [
    "Buka file, dan baca per karakter"
   ]
  },
  {
   "cell_type": "code",
   "execution_count": 3,
   "metadata": {},
   "outputs": [
    {
     "name": "stdout",
     "output_type": "stream",
     "text": [
      "J\n",
      "a\n",
      "n\n",
      "u\n",
      "a\n",
      "r\n",
      "y\n",
      "\n",
      "\n",
      "F\n",
      "e\n",
      "b\n",
      "r\n",
      "u\n",
      "a\n",
      "r\n",
      "y\n",
      "\n",
      "\n",
      "M\n",
      "a\n",
      "r\n",
      "c\n",
      "h\n",
      "\n",
      "\n",
      "A\n",
      "p\n",
      "r\n",
      "i\n",
      "l\n",
      "\n",
      "\n",
      "J\n",
      "u\n",
      "n\n",
      "i\n",
      "\n",
      "\n",
      "J\n",
      "u\n",
      "l\n",
      "i\n",
      "\n",
      "\n"
     ]
    }
   ],
   "source": [
    "f = open(\"months.txt\")\n",
    "nextChar = f.read(1)\n",
    "while nextChar != \"\":\n",
    "    print(nextChar)\n",
    "    nextChar = f.read(1)"
   ]
  },
  {
   "cell_type": "markdown",
   "metadata": {},
   "source": [
    "Baca per baris. "
   ]
  },
  {
   "cell_type": "code",
   "execution_count": 4,
   "metadata": {},
   "outputs": [
    {
     "name": "stdout",
     "output_type": "stream",
     "text": [
      "January\n",
      "\n",
      "February\n",
      "\n",
      "March\n",
      "\n",
      "April\n",
      "\n",
      "Juni\n",
      "\n",
      "Juli\n",
      "\n"
     ]
    }
   ],
   "source": [
    "f = open(\"months.txt\")\n",
    "nextLine = f.readline()\n",
    "while nextLine != \"\":\n",
    "    print(nextLine)\n",
    "    nextLine = f.readline()"
   ]
  },
  {
   "cell_type": "markdown",
   "metadata": {},
   "source": [
    "Kenapa ada baris kosong setiap print(nextLine)?\n",
    "Karena  .... "
   ]
  },
  {
   "cell_type": "markdown",
   "metadata": {},
   "source": [
    "Baca file per baris, dan strip(menghilangkan/membuant) karakter \"\\n\" di akhir baris."
   ]
  },
  {
   "cell_type": "code",
   "execution_count": 11,
   "metadata": {},
   "outputs": [
    {
     "name": "stdout",
     "output_type": "stream",
     "text": [
      "January\n",
      "February\n",
      "March\n",
      "April\n",
      "Juni\n",
      "Juli\n"
     ]
    }
   ],
   "source": [
    "f = open(\"months.txt\")\n",
    "nextLine = f.readline()\n",
    "while nextLine != \"\":\n",
    "    print( nextLine.strip() )\n",
    "    nextLine = f.readline()\n",
    "    "
   ]
  },
  {
   "cell_type": "markdown",
   "metadata": {},
   "source": [
    "Baca seluruh baris, masukkan data dalam bentuk list"
   ]
  },
  {
   "cell_type": "code",
   "execution_count": 14,
   "metadata": {},
   "outputs": [
    {
     "name": "stdout",
     "output_type": "stream",
     "text": [
      "January\n",
      "February\n",
      "March\n",
      "April\n",
      "Juni\n",
      "Juli\n"
     ]
    }
   ],
   "source": [
    "f = open(\"months.txt\")\n",
    "data = f.readlines()\n",
    "for d in data:\n",
    "    print(d.strip())"
   ]
  },
  {
   "cell_type": "code",
   "execution_count": 17,
   "metadata": {},
   "outputs": [],
   "source": [
    "f = open(\"months.txt\")\n",
    "months = []\n",
    "data = f.readlines()\n",
    "for d in data:\n",
    "    months.append(d.strip())"
   ]
  },
  {
   "cell_type": "code",
   "execution_count": 18,
   "metadata": {},
   "outputs": [
    {
     "data": {
      "text/plain": [
       "['January', 'February', 'March', 'April', 'Juni', 'Juli']"
      ]
     },
     "execution_count": 18,
     "metadata": {},
     "output_type": "execute_result"
    }
   ],
   "source": [
    "months"
   ]
  },
  {
   "cell_type": "markdown",
   "metadata": {},
   "source": [
    "### Menulis ke file"
   ]
  },
  {
   "cell_type": "code",
   "execution_count": 22,
   "metadata": {},
   "outputs": [],
   "source": [
    "f = open(\"newfile.txt\",\"w\")\n",
    "f.write(\"hello\\nworld\")\n",
    "f.close()"
   ]
  },
  {
   "cell_type": "markdown",
   "metadata": {},
   "source": [
    "### Mengolah data String\n"
   ]
  },
  {
   "cell_type": "code",
   "execution_count": 28,
   "metadata": {},
   "outputs": [],
   "source": [
    "d = \"Angeline bla - Plum\"\n",
    "name,choice = d.split(\" - \")"
   ]
  },
  {
   "cell_type": "code",
   "execution_count": 29,
   "metadata": {},
   "outputs": [
    {
     "data": {
      "text/plain": [
       "'Angeline bla'"
      ]
     },
     "execution_count": 29,
     "metadata": {},
     "output_type": "execute_result"
    }
   ],
   "source": [
    "name"
   ]
  },
  {
   "cell_type": "code",
   "execution_count": 1,
   "metadata": {},
   "outputs": [
    {
     "name": "stdout",
     "output_type": "stream",
     "text": [
      "name:\tAngelina Belmore\n",
      "choice:\tPlum Purple\n",
      "name:\tFred Smith\n",
      "choice:\tRed king\n",
      "name:\tMatthew Wroe\n",
      "choice:\tWhite Icicle\n",
      "name:\tKeira Cani\n",
      "choice:\tSicily Giant\n",
      "name:\tIsaac Hallstrom\n",
      "choice:\tRed King\n",
      "name:\tJin Li\n",
      "choice:\tWhite Icicle\n",
      "name:\tGeorgia McKellar\n",
      "choice:\tBunny Tail\n",
      "name:\tMaximilian Avdeev\n",
      "choice:\tCherry Belle\n",
      "name:\tLorna Beneventi\n",
      "choice:\tWhite Icicle\n",
      "name:\tLara Tunnecliffe\n",
      "choice:\tPlum Purple\n",
      "name:\tHugo Sodersten\n",
      "choice:\tDaikon\n"
     ]
    }
   ],
   "source": [
    "f = open(\"radishsurvey.txt\")\n",
    "data = f.readlines()\n",
    "for d in data:\n",
    "    d = d.strip()\n",
    "    name,choice = d.split(\" - \")\n",
    "    print(\"name:\\t\" + name)\n",
    "    print(\"choice:\\t\" + choice)"
   ]
  },
  {
   "cell_type": "code",
   "execution_count": 3,
   "metadata": {},
   "outputs": [
    {
     "name": "stdout",
     "output_type": "stream",
     "text": [
      "2\n"
     ]
    }
   ],
   "source": [
    "f = open(\"radishsurvey.txt\")\n",
    "count = 0\n",
    "data = f.readlines()\n",
    "for d in data:\n",
    "    d = d.strip()\n",
    "    name,choice = d.split(\" - \")\n",
    "    if choice == \"Red King\":\n",
    "        count += 1\n",
    "        \n",
    "print(count)"
   ]
  },
  {
   "cell_type": "code",
   "execution_count": 5,
   "metadata": {},
   "outputs": [
    {
     "name": "stdout",
     "output_type": "stream",
     "text": [
      "2\n"
     ]
    }
   ],
   "source": [
    "f = open(\"radishsurvey.txt\")\n",
    "count = 0\n",
    "nextLine = f.readline()\n",
    "while nextLine != \"\":\n",
    "    name,choice = nextLine.strip().split(\" - \")\n",
    "    if choice == \"Red King\":\n",
    "        count += 1\n",
    "    nextLine = f.readline()\n",
    "    \n",
    "print(count)"
   ]
  },
  {
   "cell_type": "code",
   "execution_count": 13,
   "metadata": {},
   "outputs": [],
   "source": [
    "ddata = {}\n",
    "data = [\"a\",\"a\",\"b\",\"c\",\"b\",\"a\",\"b\"]\n",
    "for d in data:\n",
    "    if d not in ddata:\n",
    "        # d pertama kali muncul di dictionary ddata\n",
    "        ddata[d] = 1\n",
    "    else:\n",
    "        ddata[d] = ddata[d] + 1\n",
    "    "
   ]
  },
  {
   "cell_type": "code",
   "execution_count": 14,
   "metadata": {},
   "outputs": [
    {
     "data": {
      "text/plain": [
       "{'a': 3, 'b': 3, 'c': 1}"
      ]
     },
     "execution_count": 14,
     "metadata": {},
     "output_type": "execute_result"
    }
   ],
   "source": [
    "ddata"
   ]
  },
  {
   "cell_type": "code",
   "execution_count": 2,
   "metadata": {},
   "outputs": [],
   "source": [
    "def munge(data):\n",
    "    data = data.strip().capitalize().replace(\"  \",\" \")\n",
    "    return data\n",
    "\n",
    "f = open(\"radishsurvey_long.txt\")\n",
    "countName = {}\n",
    "countChoice = {}\n",
    "\n",
    "choiceWinner = ''\n",
    "choiceMax = 0\n",
    "\n",
    "nextLine = f.readline()\n",
    "while nextLine != \"\":\n",
    "    name,choice = nextLine.strip().split(\" - \")\n",
    "    name = munge(name)\n",
    "    choice = munge(choice)\n",
    "    if name not in countName:\n",
    "        countName[name] = 1\n",
    "    else:\n",
    "        countName[name] += 1\n",
    "    if choice not in countChoice:\n",
    "        countChoice[choice] = 1\n",
    "    else:\n",
    "        countChoice[choice] += 1\n",
    "        \n",
    "    if (countChoice[choice] > choiceMax):\n",
    "        choiceMax = countChoice[choice]\n",
    "        choiceWinner = choice\n",
    "        \n",
    "    nextLine = f.readline()\n"
   ]
  },
  {
   "cell_type": "code",
   "execution_count": 12,
   "metadata": {},
   "outputs": [
    {
     "name": "stdout",
     "output_type": "stream",
     "text": [
      "{'White icicle': 65, 'Snow belle': 63, 'Champion': 76, 'Cherry belle': 58, 'French breakfast': 72, 'Daikon': 63, 'Bunny tail': 72, 'Sicily giant': 57, 'Red king': 56, 'Plum purple': 57, 'April cross': 72}\n",
      "Winner is Champion\n",
      "with count 76\n"
     ]
    }
   ],
   "source": [
    "print(countChoice)\n",
    "print(\"Winner is \" + choiceWinner)\n",
    "print('with count ' + str(choiceMax))"
   ]
  },
  {
   "cell_type": "code",
   "execution_count": 14,
   "metadata": {},
   "outputs": [
    {
     "name": "stdout",
     "output_type": "stream",
     "text": [
      "Phoebe barwell\n",
      "Procopio zito\n"
     ]
    }
   ],
   "source": [
    "for n in countName:\n",
    "    if countName[n] > 1:\n",
    "        print(n)"
   ]
  },
  {
   "cell_type": "code",
   "execution_count": null,
   "metadata": {
    "collapsed": true
   },
   "outputs": [],
   "source": []
  }
 ],
 "metadata": {
  "kernelspec": {
   "display_name": "Python 2",
   "language": "python",
   "name": "python2"
  },
  "language_info": {
   "codemirror_mode": {
    "name": "ipython",
    "version": 2
   },
   "file_extension": ".py",
   "mimetype": "text/x-python",
   "name": "python",
   "nbconvert_exporter": "python",
   "pygments_lexer": "ipython2",
   "version": "2.7.12"
  }
 },
 "nbformat": 4,
 "nbformat_minor": 1
}
