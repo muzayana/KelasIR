{
 "cells": [
  {
   "cell_type": "markdown",
   "metadata": {},
   "source": [
    "## Tugas\n",
    "\n",
    "1. Buat function yang menghitung frekuensi name dan choice dari data radishsurvey.txt\n",
    "2. Buat function yang menampilkan name yang frekuensi lebih dari 2\n",
    "\n",
    "3. Pilih salah satu data dari Jakarta OpenData (data.jakarta.go.id) berformat csv. Buat 2 grafik visualisasi histogram dari data tersebut.\n",
    "\n",
    "Kumpulkan source dalam bentuk file ipython notebook.\n",
    "Buat dokumen penjelasan atas kode dan visualisasi dalam format digital (word atau pdf)\n",
    "\n"
   ]
  },
  {
   "cell_type": "code",
   "execution_count": null,
   "metadata": {
    "collapsed": true
   },
   "outputs": [],
   "source": [
    "lop;"
   ]
  }
 ],
 "metadata": {
  "kernelspec": {
   "display_name": "Python 2",
   "language": "python",
   "name": "python2"
  },
  "language_info": {
   "codemirror_mode": {
    "name": "ipython",
    "version": 2
   },
   "file_extension": ".py",
   "mimetype": "text/x-python",
   "name": "python",
   "nbconvert_exporter": "python",
   "pygments_lexer": "ipython2",
   "version": "2.7.10"
  }
 },
 "nbformat": 4,
 "nbformat_minor": 0
}
